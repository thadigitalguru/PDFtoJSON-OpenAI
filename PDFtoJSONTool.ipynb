{
  "nbformat": 4,
  "nbformat_minor": 0,
  "metadata": {
    "colab": {
      "provenance": [],
      "include_colab_link": true
    },
    "kernelspec": {
      "name": "python3",
      "display_name": "Python 3"
    },
    "language_info": {
      "name": "python"
    }
  },
  "cells": [
    {
      "cell_type": "markdown",
      "metadata": {
        "id": "view-in-github",
        "colab_type": "text"
      },
      "source": [
        "<a href=\"https://colab.research.google.com/github/thadigitalguru/PDFtoJSON-OpenAI/blob/main/PDFtoJSONTool.ipynb\" target=\"_parent\"><img src=\"https://colab.research.google.com/assets/colab-badge.svg\" alt=\"Open In Colab\"/></a>"
      ]
    },
    {
      "cell_type": "markdown",
      "source": [],
      "metadata": {
        "id": "46pGrKnGsNde"
      }
    },
    {
      "cell_type": "markdown",
      "source": [
        "**PIP install required Libraries.**\n",
        "\n",
        "For this demo we are using:\n",
        "\n",
        "*   openai - to call the LLM\n",
        "*   pdfminer.six - to extract text from a PDF.\n"
      ],
      "metadata": {
        "id": "YFR123xBfICy"
      }
    },
    {
      "cell_type": "code",
      "execution_count": null,
      "metadata": {
        "id": "V0Epy785e4af"
      },
      "outputs": [],
      "source": [
        "!pip install openai pdfminer.six"
      ]
    },
    {
      "cell_type": "markdown",
      "source": [
        "**Import the OpenAI API Key from Colab Secrets**\n",
        "\n",
        "We need to get the OpenAI from the secrets in Google Colab and put it in 'api_key' and then create a 'client' object that will be used later.\n"
      ],
      "metadata": {
        "id": "kr0B2mhlfsx4"
      }
    },
    {
      "cell_type": "code",
      "source": [
        "from google.colab import userdata\n",
        "import openai\n",
        "\n",
        "api_key = userdata.get(\"OpenAI\")\n",
        "\n",
        "if not api_key:\n",
        "    raise ValueError(\"❌ OpenAI API key not found. Use `userdata.set('OpenAI', 'sk-...')` first.\")\n",
        "\n",
        "client = openai.OpenAI(api_key=api_key)\n"
      ],
      "metadata": {
        "id": "jEACsdGSfZJT"
      },
      "execution_count": null,
      "outputs": []
    },
    {
      "cell_type": "markdown",
      "source": [
        "**Upload the PDF File to Process**\n",
        "\n",
        "We use the files library from google colab to upload the file we want to process.\n"
      ],
      "metadata": {
        "id": "c6EI40TTf3aD"
      }
    },
    {
      "cell_type": "code",
      "source": [
        "from google.colab import files\n",
        "\n",
        "uploaded = files.upload()  # Upload a health report PDF\n",
        "pdf_filename = list(uploaded.keys())[0]\n",
        "print(f\"📄 Uploaded: {pdf_filename}\")\n"
      ],
      "metadata": {
        "id": "KzXegDcfgaYa"
      },
      "execution_count": null,
      "outputs": []
    },
    {
      "cell_type": "markdown",
      "source": [
        "**Define the Function Schema**\n",
        "\n",
        "The function schema is like a contract or blueprint that tells GPT:\n",
        "\n",
        "“You are not just generating text. You are calling a function named extract_patient_info, and here’s what the input should look like.”\n",
        "\n",
        "It's based on JSON Schema standards and includes:\n",
        "\n",
        "*   **\"name\"**\tThe name of the virtual function GPT is calling\n",
        "*   **\"description\"**\tHelps the model understand what the function is for\n",
        "*   **\"parameters\"**\tSpecifies the expected structure of the output (a JSON object)\n",
        "*   **\"properties\"**\tLists all fields we want from the report\n",
        "*   **\"required\"**\tTells GPT which fields are mandatory\n"
      ],
      "metadata": {
        "id": "IGK3dKWHg1Yi"
      }
    },
    {
      "cell_type": "code",
      "source": [
        "patient_info_function = {\n",
        "    \"name\": \"extract_patient_info\",\n",
        "    \"description\": \"Extracts key personal fields from a health report.\",\n",
        "    \"parameters\": {\n",
        "        \"type\": \"object\",\n",
        "        \"properties\": {\n",
        "            \"name\": {\"type\": \"string\"},\n",
        "            \"patient_id\": {\"type\": \"string\"},\n",
        "            \"mrn\": {\"type\": [\"string\", \"null\"]},\n",
        "            \"birth_date\": {\"type\": \"string\", \"format\": \"date\"},\n",
        "            \"age\": {\"type\": \"integer\"},\n",
        "            \"gender\": {\"type\": \"string\"},\n",
        "            \"address\": {\"type\": \"string\"},\n",
        "            \"phone\": {\n",
        "                \"type\": \"object\",\n",
        "                \"properties\": {\n",
        "                    \"home\": {\"type\": [\"string\", \"null\"]},\n",
        "                    \"work\": {\"type\": [\"string\", \"null\"]},\n",
        "                    \"cell\": {\"type\": [\"string\", \"null\"]}\n",
        "                }\n",
        "            },\n",
        "            \"email\": {\"type\": \"string\"},\n",
        "            \"provider\": {\"type\": \"string\"},\n",
        "            \"referring_provider\": {\"type\": \"string\"},\n",
        "            \"print_date\": {\"type\": \"string\", \"format\": \"date\"}\n",
        "        },\n",
        "        \"required\": [\"name\", \"patient_id\", \"birth_date\", \"age\", \"gender\", \"address\", \"email\"]\n",
        "    }\n",
        "}"
      ],
      "metadata": {
        "id": "AutO2Fumg_P1"
      },
      "execution_count": null,
      "outputs": []
    },
    {
      "cell_type": "markdown",
      "source": [
        "**Define PDF and OpenAI Functions**\n",
        "\n",
        "We use the **extract_text** library function to get the text from the PDF that was uploads.\n"
      ],
      "metadata": {
        "id": "nbYtVoRGhO3J"
      }
    },
    {
      "cell_type": "code",
      "source": [
        "from pdfminer.high_level import extract_text\n",
        "\n",
        "def extract_text_from_pdf(path: str) -> str:\n",
        "    return extract_text(path)\n",
        "\n",
        "pdf_text = extract_text_from_pdf(pdf_filename)\n",
        "print(\"✅ PDF text extracted. Sample preview:\\n\")\n",
        "print(pdf_text[:1000])\n"
      ],
      "metadata": {
        "id": "FXdQ_28ehVpH"
      },
      "execution_count": null,
      "outputs": []
    },
    {
      "cell_type": "markdown",
      "source": [
        "**Extract Data**\n",
        "\n",
        "We are using the gpt-4o-mini to extract data and put the results into function_schema.\n"
      ],
      "metadata": {
        "id": "GTMaL0CEhpRZ"
      }
    },
    {
      "cell_type": "code",
      "source": [
        "import json\n",
        "\n",
        "def call_extraction(text: str, function_schema: dict) -> dict:\n",
        "    response = client.chat.completions.create(\n",
        "        model=\"gpt-4o-mini\",\n",
        "        temperature=0.0,\n",
        "        messages=[\n",
        "            {\"role\": \"system\", \"content\": \"You are a medical data extractor.\"},\n",
        "            {\"role\": \"user\", \"content\": text}\n",
        "        ],\n",
        "        functions=[function_schema],\n",
        "        function_call={\"name\": function_schema[\"name\"]}\n",
        "    )\n",
        "    args = response.choices[0].message.function_call.arguments\n",
        "    return json.loads(args)\n",
        "\n",
        "try:\n",
        "    patient_info = call_extraction(pdf_text, patient_info_function)\n",
        "    print(\"✅ Patient Info Extracted:\\n\")\n",
        "    print(json.dumps(patient_info, indent=2))\n",
        "except Exception as e:\n",
        "    print(\"❌ Extraction failed:\", str(e))\n",
        "\n"
      ],
      "metadata": {
        "id": "rmkyyYmKhsIG"
      },
      "execution_count": null,
      "outputs": []
    }
  ]
}